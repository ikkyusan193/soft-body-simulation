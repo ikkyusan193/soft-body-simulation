{
 "cells": [
  {
   "cell_type": "code",
   "execution_count": 1,
   "metadata": {},
   "outputs": [
    {
     "name": "stdout",
     "output_type": "stream",
     "text": [
      "pygame 2.1.0 (SDL 2.0.16, Python 3.7.3)\n",
      "Hello from the pygame community. https://www.pygame.org/contribute.html\n"
     ]
    }
   ],
   "source": [
    "import scipy\n",
    "import math\n",
    "import numpy as np\n",
    "import sys\n",
    "\n",
    "import pymunk\n",
    "from pymunk.pygame_util import *\n",
    "from pymunk.vec2d import Vec2d\n",
    "import pygame\n",
    "from pygame.locals import *"
   ]
  },
  {
   "cell_type": "code",
   "execution_count": 2,
   "metadata": {},
   "outputs": [],
   "source": [
    "#Variable/constant\n",
    "size = 800\n",
    "FPS = 50\n",
    "stiffness = 5000.0\n",
    "damping = 100"
   ]
  },
  {
   "cell_type": "code",
   "execution_count": 3,
   "metadata": {
    "scrolled": false
   },
   "outputs": [
    {
     "ename": "NameError",
     "evalue": "name 'self' is not defined",
     "output_type": "error",
     "traceback": [
      "\u001b[1;31m---------------------------------------------------------------------------\u001b[0m",
      "\u001b[1;31mNameError\u001b[0m                                 Traceback (most recent call last)",
      "\u001b[1;32m<ipython-input-3-ddfe01f1bbf8>\u001b[0m in \u001b[0;36m<module>\u001b[1;34m\u001b[0m\n\u001b[0;32m    115\u001b[0m         \u001b[0mspace\u001b[0m\u001b[1;33m.\u001b[0m\u001b[0mstep\u001b[0m\u001b[1;33m(\u001b[0m\u001b[1;36m1\u001b[0m\u001b[1;33m/\u001b[0m\u001b[0mFPS\u001b[0m\u001b[1;33m)\u001b[0m\u001b[1;33m\u001b[0m\u001b[1;33m\u001b[0m\u001b[0m\n\u001b[0;32m    116\u001b[0m \u001b[1;33m\u001b[0m\u001b[0m\n\u001b[1;32m--> 117\u001b[1;33m \u001b[0mSimulate\u001b[0m\u001b[1;33m(\u001b[0m\u001b[1;33m)\u001b[0m\u001b[1;33m\u001b[0m\u001b[1;33m\u001b[0m\u001b[0m\n\u001b[0m\u001b[0;32m    118\u001b[0m \u001b[0mpygame\u001b[0m\u001b[1;33m.\u001b[0m\u001b[0mquit\u001b[0m\u001b[1;33m(\u001b[0m\u001b[1;33m)\u001b[0m\u001b[1;33m\u001b[0m\u001b[1;33m\u001b[0m\u001b[0m\n",
      "\u001b[1;32m<ipython-input-3-ddfe01f1bbf8>\u001b[0m in \u001b[0;36mSimulate\u001b[1;34m()\u001b[0m\n\u001b[0;32m     97\u001b[0m                 \u001b[0msys\u001b[0m\u001b[1;33m.\u001b[0m\u001b[0mexit\u001b[0m\u001b[1;33m(\u001b[0m\u001b[1;33m)\u001b[0m\u001b[1;33m\u001b[0m\u001b[1;33m\u001b[0m\u001b[0m\n\u001b[0;32m     98\u001b[0m             \u001b[1;32melif\u001b[0m \u001b[0mevent\u001b[0m\u001b[1;33m.\u001b[0m\u001b[0mtype\u001b[0m \u001b[1;33m==\u001b[0m \u001b[0mMOUSEBUTTONUP\u001b[0m\u001b[1;33m:\u001b[0m\u001b[1;33m\u001b[0m\u001b[1;33m\u001b[0m\u001b[0m\n\u001b[1;32m---> 99\u001b[1;33m                 \u001b[1;32mif\u001b[0m \u001b[0mself\u001b[0m\u001b[1;33m.\u001b[0m\u001b[0mpulling\u001b[0m\u001b[1;33m:\u001b[0m\u001b[1;33m\u001b[0m\u001b[1;33m\u001b[0m\u001b[0m\n\u001b[0m\u001b[0;32m    100\u001b[0m                     \u001b[0mself\u001b[0m\u001b[1;33m.\u001b[0m\u001b[0mpulling\u001b[0m \u001b[1;33m=\u001b[0m \u001b[1;32mFalse\u001b[0m\u001b[1;33m\u001b[0m\u001b[1;33m\u001b[0m\u001b[0m\n\u001b[0;32m    101\u001b[0m                     \u001b[0mb\u001b[0m \u001b[1;33m=\u001b[0m \u001b[0mself\u001b[0m\u001b[1;33m.\u001b[0m\u001b[0mactive_shape\u001b[0m\u001b[1;33m.\u001b[0m\u001b[0mbody\u001b[0m\u001b[1;33m\u001b[0m\u001b[1;33m\u001b[0m\u001b[0m\n",
      "\u001b[1;31mNameError\u001b[0m: name 'self' is not defined"
     ]
    }
   ],
   "source": [
    "#Pygame settings\n",
    "pygame.init()\n",
    "\n",
    "screen = pygame.display.set_mode((size,size))\n",
    "clock = pygame.time.Clock()\n",
    "space = pymunk.Space()\n",
    "space.gravity = 0,-10\n",
    "space.damp = 0.999\n",
    "\n",
    "\n",
    "#functions\n",
    "def convert_position(point):\n",
    "    return int(point[0]), int(size-point[1])\n",
    "\n",
    "class Segment():    \n",
    "    def __init__(self,x,y):\n",
    "        self.x = x\n",
    "        self.y = y\n",
    "        self.body = pymunk.Body(body_type=pymunk.Body.STATIC)\n",
    "        self.shape = pymunk.Segment(self.body,(x,y),(size,y),5)\n",
    "        self.shape.density = 0.01\n",
    "        self.shape.elasticity = 0.05\n",
    "        space.add(self.body,self.shape)\n",
    "        \n",
    "    def draw(self):\n",
    "        pygame.draw.line(screen,(0,0,0),(self.x,size-self.y),(size,size-self.y),5)\n",
    "\n",
    "\n",
    "#Object class\n",
    "class Particle():\n",
    "    def __init__(self,x,y):\n",
    "        self.body = pymunk.Body()\n",
    "        self.body.position = x, y\n",
    "        self.shape = pymunk.Circle(self.body,5)\n",
    "        self.shape.density = 1\n",
    "        self.shape.elasticity = 5\n",
    "        space.add(self.body,self.shape)\n",
    "        \n",
    "    def draw(self):\n",
    "        pygame.draw.circle(screen, (255,0,0), convert_position(self.body.position), 5)\n",
    "            \n",
    "        \n",
    "class DampedSpring():\n",
    "    def __init__(self, body1, attachment, identifier=\"body\"):\n",
    "        self.body1 = body1\n",
    "        if  identifier == \"body\":\n",
    "            self.body2 = attachment\n",
    "        elif identifier == \"position\":\n",
    "            self.body2 = pymunk.Body(body_type=pymunk.Body.STATIC)\n",
    "            self.body2.position = attachment\n",
    "        rl = self.body1.position.get_distance(self.body2.position) * 0.9\n",
    "        joint = pymunk.DampedSpring(self.body1, self.body2, (0, 0), (0, 0), rl, stiffness, damping)\n",
    "        joint.max_bias = 100\n",
    "        space.add(joint)\n",
    "    \n",
    "    def draw(self):\n",
    "        pos1 = convert_position(self.body1.position)\n",
    "        pos2 = convert_position(self.body2.position)\n",
    "        pygame.draw.line(screen, (0,0,0), pos1, pos2, 5)\n",
    "        \n",
    "#function to create square            \n",
    "class Square():\n",
    "    # we can make it auto x,y here\n",
    "    def __init__(self):\n",
    "        self.Particles = []\n",
    "        self.Particles.append(Particle(100,200)) #0\n",
    "        self.Particles.append(Particle(200,200)) #1\n",
    "        self.Particles.append(Particle(100,300)) #2\n",
    "        self.Particles.append(Particle(200,300)) #3\n",
    "        \n",
    "        #this is custom we will connect like X\n",
    "        self.Springs = []\n",
    "        self.Springs.append(DampedSpring(self.Particles[0].body,self.Particles[1].body))\n",
    "        self.Springs.append(DampedSpring(self.Particles[0].body,self.Particles[2].body))\n",
    "        self.Springs.append(DampedSpring(self.Particles[0].body,self.Particles[3].body))\n",
    "        self.Springs.append(DampedSpring(self.Particles[2].body,self.Particles[1].body))\n",
    "        self.Springs.append(DampedSpring(self.Particles[2].body,self.Particles[3].body))\n",
    "        self.Springs.append(DampedSpring(self.Particles[1].body,self.Particles[3].body))\n",
    "        \n",
    "        \n",
    "        \n",
    "        \n",
    "#Simluation loop\n",
    "def Simulate():\n",
    "    floor = Segment(0,50)\n",
    "    square = Square()\n",
    "    while True:\n",
    "        for event in pygame.event.get():\n",
    "            screen.fill((255,255,255))\n",
    "            if event.type == pygame.QUIT:\n",
    "                pygame.quit()\n",
    "                sys.exit()\n",
    "            elif event.type == MOUSEBUTTONUP:\n",
    "                if self.pulling:\n",
    "                    self.pulling = False\n",
    "                    b = self.active_shape.body\n",
    "                    p0 = Vec2d(b.position)\n",
    "                    p1 = from_pygame(event.pos, self.screen)\n",
    "                    impulse = 100 * Vec2d(p0 - p1).rotated(-b.angle)\n",
    "                    b.apply_impulse_at_local_point(impulse)\n",
    "            \n",
    "        floor.draw()        \n",
    "        for particle in square.Particles:\n",
    "            particle.draw()\n",
    "        for spring in square.Springs:\n",
    "            spring.draw()\n",
    "        \n",
    "        pygame.display.update()\n",
    "        clock.tick(FPS) #limit fps = 50\n",
    "        space.step(1/FPS)\n",
    "\n",
    "Simulate()\n",
    "pygame.quit()"
   ]
  },
  {
   "cell_type": "code",
   "execution_count": null,
   "metadata": {},
   "outputs": [],
   "source": []
  },
  {
   "cell_type": "code",
   "execution_count": null,
   "metadata": {},
   "outputs": [],
   "source": []
  }
 ],
 "metadata": {
  "kernelspec": {
   "display_name": "Python 3",
   "language": "python",
   "name": "python3"
  },
  "language_info": {
   "codemirror_mode": {
    "name": "ipython",
    "version": 3
   },
   "file_extension": ".py",
   "mimetype": "text/x-python",
   "name": "python",
   "nbconvert_exporter": "python",
   "pygments_lexer": "ipython3",
   "version": "3.7.3"
  }
 },
 "nbformat": 4,
 "nbformat_minor": 2
}
